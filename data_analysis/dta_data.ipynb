{
 "cells": [
  {
   "cell_type": "code",
   "execution_count": 1,
   "metadata": {
    "collapsed": true
   },
   "outputs": [],
   "source": [
    "import numpy as np\n",
    "import pandas as pd\n",
    "import matplotlib.pylab as plt\n",
    "import seaborn as sns\n",
    "%matplotlib inline"
   ]
  },
  {
   "cell_type": "code",
   "execution_count": null,
   "metadata": {
    "collapsed": true
   },
   "outputs": [],
   "source": []
  },
  {
   "cell_type": "markdown",
   "metadata": {},
   "source": [
    "### read in the data"
   ]
  },
  {
   "cell_type": "code",
   "execution_count": 2,
   "metadata": {
    "collapsed": true
   },
   "outputs": [],
   "source": [
    "df = pd.read_stata(\"C:\\Users\\Ming\\Downloads\\Data\\OriginalCodedStudies.dta\")"
   ]
  },
  {
   "cell_type": "code",
   "execution_count": 5,
   "metadata": {},
   "outputs": [
    {
     "name": "stdout",
     "output_type": "stream",
     "text": [
      "0       2\n",
      "1       2\n",
      "2       1\n",
      "3       1\n",
      "4       1\n",
      "5       1\n",
      "6       1\n",
      "7       1\n",
      "8       1\n",
      "9       1\n",
      "10      1\n",
      "11      1\n",
      "12      1\n",
      "13      1\n",
      "14      1\n",
      "15      1\n",
      "16      1\n",
      "17      1\n",
      "18      1\n",
      "19      1\n",
      "20      2\n",
      "21      2\n",
      "22      1\n",
      "23      2\n",
      "24      1\n",
      "25      1\n",
      "26      1\n",
      "27      1\n",
      "28      1\n",
      "29      1\n",
      "       ..\n",
      "2171    4\n",
      "2172    8\n",
      "2173    3\n",
      "2174    7\n",
      "2175    1\n",
      "2176    9\n",
      "2177    2\n",
      "2178    7\n",
      "2179    5\n",
      "2180    7\n",
      "2181    7\n",
      "2182    5\n",
      "2183    9\n",
      "2184    9\n",
      "2185    3\n",
      "2186    6\n",
      "2187    2\n",
      "2188    1\n",
      "2189    1\n",
      "2190    1\n",
      "2191    1\n",
      "2192    2\n",
      "2193    1\n",
      "2194    1\n",
      "2195    1\n",
      "2196    1\n",
      "2197    1\n",
      "2198    1\n",
      "2199    1\n",
      "2200    1\n",
      "Name: groupid1, Length: 2201, dtype: int8\n"
     ]
    }
   ],
   "source": [
    "print df.groupid1"
   ]
  }
 ],
 "metadata": {
  "kernelspec": {
   "display_name": "Python 2",
   "language": "python",
   "name": "python2"
  },
  "language_info": {
   "codemirror_mode": {
    "name": "ipython",
    "version": 2
   },
   "file_extension": ".py",
   "mimetype": "text/x-python",
   "name": "python",
   "nbconvert_exporter": "python",
   "pygments_lexer": "ipython2",
   "version": "2.7.13"
  }
 },
 "nbformat": 4,
 "nbformat_minor": 2
}
